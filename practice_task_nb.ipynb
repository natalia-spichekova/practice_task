{
  "nbformat": 4,
  "nbformat_minor": 0,
  "metadata": {
    "colab": {
      "name": "Copy of practice_task_nb.ipynb",
      "version": "0.3.2",
      "provenance": []
    },
    "kernelspec": {
      "name": "python2",
      "display_name": "Python 2"
    }
  },
  "cells": [
    {
      "metadata": {
        "id": "Dg_Y-UkizlxZ",
        "colab_type": "code",
        "colab": {}
      },
      "cell_type": "code",
      "source": [
        "import os\n",
        "from pydrive.auth import GoogleAuth\n",
        "from pydrive.drive import GoogleDrive\n",
        "from google.colab import auth\n",
        "from oauth2client.client import GoogleCredentials"
      ],
      "execution_count": 0,
      "outputs": []
    },
    {
      "metadata": {
        "id": "2vDMsQyHEJbO",
        "colab_type": "code",
        "colab": {}
      },
      "cell_type": "code",
      "source": [
        "# authenticate and create the PyDrive client.\n",
        "auth.authenticate_user()\n",
        "gauth = GoogleAuth()\n",
        "gauth.credentials = GoogleCredentials.get_application_default()\n",
        "drive = GoogleDrive(gauth)"
      ],
      "execution_count": 0,
      "outputs": []
    },
    {
      "metadata": {
        "id": "2clPBWSby5pA",
        "colab_type": "code",
        "colab": {}
      },
      "cell_type": "code",
      "source": [
        "import tarfile\n",
        "# shared link to data archive file\n",
        "# https://drive.google.com/open?id=1iqg3npFMm-7EeqDbZbwOHJbms01lAjbC \n",
        "\n",
        "  \n",
        "# authenticate and create the PyDrive client.\n",
        "auth.authenticate_user()\n",
        "gauth = GoogleAuth()\n",
        "gauth.credentials = GoogleCredentials.get_application_default()\n",
        "drive = GoogleDrive(gauth)\n",
        "\n",
        "# download \n",
        "download = drive.CreateFile({'id': '1iqg3npFMm-7EeqDbZbwOHJbms01lAjbC'})\n",
        "download.GetContentFile('aclImdb_v1.tar.gz')\n",
        "\n",
        "# unzip\n",
        "if not os.path.exists('data'):\n",
        "  os.makedirs(\"data\")\n",
        "\n",
        "tar = tarfile.open('aclImdb_v1.tar.gz', \"r:gz\")\n",
        "tar.extractall('data/')\n",
        "tar.close()"
      ],
      "execution_count": 0,
      "outputs": []
    },
    {
      "metadata": {
        "id": "ospR4rXU_Qec",
        "colab_type": "code",
        "colab": {}
      },
      "cell_type": "code",
      "source": [
        "import zipfile\n",
        "# shared link to script files\n",
        "#https://drive.google.com/open?id=1uU0LE_rzp_jZr4D-kqrYHPt-AIgoAiFs\n",
        "  \n",
        "download_scr = drive.CreateFile({'id': '1uU0LE_rzp_jZr4D-kqrYHPt-AIgoAiFs'})\n",
        "download_scr.GetContentFile('scripts.zip')\n",
        "\n",
        "zip_ref = zipfile.ZipFile('scripts.zip', \"r\")\n",
        "zip_ref.extractall()\n",
        "zip_ref.close()"
      ],
      "execution_count": 0,
      "outputs": []
    },
    {
      "metadata": {
        "id": "eh22syFF-46V",
        "colab_type": "code",
        "colab": {}
      },
      "cell_type": "code",
      "source": [
        "import utils\n",
        "# load data\n",
        "\n",
        "train_path = os.path.join(\"data\", \"aclImdb\", \"train\")\n",
        "test_path = os.path.join(\"data\", \"aclImdb\", \"test\")\n",
        "\n",
        "train = utils.loaddata(train_path)\n",
        "test = utils.loaddata(test_path)"
      ],
      "execution_count": 0,
      "outputs": []
    },
    {
      "metadata": {
        "id": "mS9aECuSBYmd",
        "colab_type": "code",
        "colab": {}
      },
      "cell_type": "code",
      "source": [
        "from sklearn.model_selection import train_test_split\n",
        "# split train set into train and validation \n",
        "train_data, val_data, train_target, val_target = train_test_split(train[0], train[1], shuffle=True, test_size=0.3)\n",
        "test_data = test[0]\n",
        "test_target = test[1]"
      ],
      "execution_count": 0,
      "outputs": []
    },
    {
      "metadata": {
        "id": "ZNdyWTldBlsS",
        "colab_type": "code",
        "outputId": "14633d43-7253-4733-9af3-030888d16bd9",
        "colab": {
          "base_uri": "https://localhost:8080/",
          "height": 72
        }
      },
      "cell_type": "code",
      "source": [
        "import preprocess\n",
        "# preprocess data\n",
        "prp = preprocess.TextPreprocessor()\n",
        "\n",
        "# only tokenization\n",
        "X_train_tok = [prp.tokenize_prepr(text) for text in train_data]\n",
        "print('X_train_tok')\n",
        "X_val_tok = [prp.tokenize_prepr(text) for text in val_data]\n",
        "print('X_val_tok')\n",
        "X_test_tok = [prp.tokenize_prepr(text) for text in test_data]\n",
        "print('X_test_tok')"
      ],
      "execution_count": 0,
      "outputs": [
        {
          "output_type": "stream",
          "text": [
            "X_train_tok\n",
            "X_val_tok\n",
            "X_test_tok\n"
          ],
          "name": "stdout"
        }
      ]
    },
    {
      "metadata": {
        "id": "zCkJkbVUEzj_",
        "colab_type": "code",
        "colab": {}
      },
      "cell_type": "code",
      "source": [
        "#import models\n",
        "reload(models)\n",
        "# create model\n",
        "m = models.Model()\n",
        "\n",
        "# get tfidt features\n",
        "X_train_tfidf_tok, tfidf_vect = m.tfidf_train(X_train_tok)\n",
        "X_val_tfidf_tok = m.tfidf_trans(tfidf_vect, X_val_tok)\n",
        "X_test_tfidf_tok = m.tfidf_trans(tfidf_vect, X_test_tok)"
      ],
      "execution_count": 0,
      "outputs": []
    },
    {
      "metadata": {
        "id": "zYI3hLhdIBTH",
        "colab_type": "code",
        "outputId": "2a9bd0a7-47f4-48e7-9e5b-6497f6c078c0",
        "colab": {
          "base_uri": "https://localhost:8080/",
          "height": 90
        }
      },
      "cell_type": "code",
      "source": [
        "clf_regr_tok = m.log_regression_train(X_train_tfidf_tok, train_target)\n",
        "m.check_acc(clf_regr_tok, X_val_tfidf_tok, val_target)"
      ],
      "execution_count": 0,
      "outputs": [
        {
          "output_type": "stream",
          "text": [
            "Accuracy:  0.8846666666666667\n",
            "Cross validation score:  [0.88141239 0.864      0.87533333 0.86733333 0.88192128]\n"
          ],
          "name": "stdout"
        },
        {
          "output_type": "execute_result",
          "data": {
            "text/plain": [
              "(0.8846666666666667,\n",
              " array([0.88141239, 0.864     , 0.87533333, 0.86733333, 0.88192128]))"
            ]
          },
          "metadata": {
            "tags": []
          },
          "execution_count": 31
        }
      ]
    },
    {
      "metadata": {
        "id": "zT9qY9q9ItPl",
        "colab_type": "code",
        "outputId": "6b7a550f-5992-4aa3-ca57-7b6d8ce9709a",
        "colab": {
          "base_uri": "https://localhost:8080/",
          "height": 90
        }
      },
      "cell_type": "code",
      "source": [
        "clf_linear_svc_tok = m.linear_svc_train(X_train_tfidf_tok, train_target)\n",
        "m.check_acc(clf_linear_svc_tok, X_val_tfidf_tok, val_target)"
      ],
      "execution_count": 0,
      "outputs": [
        {
          "output_type": "stream",
          "text": [
            "Accuracy:  0.8821333333333333\n",
            "Cross validation score:  [0.8787475  0.86333333 0.86466667 0.86066667 0.88058706]\n"
          ],
          "name": "stdout"
        },
        {
          "output_type": "execute_result",
          "data": {
            "text/plain": [
              "(0.8821333333333333,\n",
              " array([0.8787475 , 0.86333333, 0.86466667, 0.86066667, 0.88058706]))"
            ]
          },
          "metadata": {
            "tags": []
          },
          "execution_count": 32
        }
      ]
    },
    {
      "metadata": {
        "id": "cPxsSsfNGa99",
        "colab_type": "code",
        "colab": {}
      },
      "cell_type": "code",
      "source": [
        "clf_adaboost_tok = m.adaboost_train(X_train_tfidf_tok, train_target)\n",
        "m.check_acc(clf_adaboost_tok, X_val_tfidf_tok, val_target)"
      ],
      "execution_count": 0,
      "outputs": []
    },
    {
      "metadata": {
        "id": "xyc6OFUnKQPV",
        "colab_type": "code",
        "colab": {}
      },
      "cell_type": "code",
      "source": [
        "clf_rf_tok = m.random_forest_train(X_train_tfidf_tok, train_target)\n",
        "m.check_acc(clf_rf_tok, X_val_tfidf_tok, val_target)"
      ],
      "execution_count": 0,
      "outputs": []
    },
    {
      "metadata": {
        "id": "4mBl_YXDKWEx",
        "colab_type": "code",
        "colab": {}
      },
      "cell_type": "code",
      "source": [
        "clf_svc_tok = m.svc_train(X_train_tfidf_tok, train_target)\n",
        "m.svc_train(clf_svc_tok, X_val_tfidf_tok, val_target)"
      ],
      "execution_count": 0,
      "outputs": []
    },
    {
      "metadata": {
        "id": "3gV6-9Ha_KAO",
        "colab_type": "code",
        "outputId": "8c8129fd-337b-4d0e-cabd-cf7b453dd61b",
        "colab": {
          "base_uri": "https://localhost:8080/",
          "height": 54
        }
      },
      "cell_type": "code",
      "source": [
        "!ls"
      ],
      "execution_count": 0,
      "outputs": [
        {
          "output_type": "stream",
          "text": [
            "aclImdb_v1.tar.gz  code.zip  preprocess.py   sample_data\n",
            "adc.json\t   data      preprocess.pyc  scripts.7z\n"
          ],
          "name": "stdout"
        }
      ]
    },
    {
      "metadata": {
        "id": "wECdm7qY3AYs",
        "colab_type": "code",
        "colab": {}
      },
      "cell_type": "code",
      "source": [
        ""
      ],
      "execution_count": 0,
      "outputs": []
    }
  ]
}